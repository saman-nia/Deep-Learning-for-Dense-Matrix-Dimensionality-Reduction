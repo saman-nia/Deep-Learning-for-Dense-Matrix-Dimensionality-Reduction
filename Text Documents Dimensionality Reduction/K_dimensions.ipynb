{
  "nbformat": 4,
  "nbformat_minor": 0,
  "metadata": {
    "colab": {
      "name": "K_dimensions.ipynb",
      "version": "0.3.2",
      "provenance": [],
      "collapsed_sections": [],
      "include_colab_link": true
    },
    "kernelspec": {
      "name": "python3",
      "display_name": "Python 3"
    },
    "accelerator": "GPU"
  },
  "cells": [
    {
      "cell_type": "markdown",
      "metadata": {
        "id": "view-in-github",
        "colab_type": "text"
      },
      "source": [
        "<a href=\"https://colab.research.google.com/github/saman-nia/Deep-Learning-for-Dimensionality-Reduction/blob/master/Text%20Documents%20Dimensionality%20Reduction/K_dimensions.ipynb\" target=\"_parent\"><img src=\"https://colab.research.google.com/assets/colab-badge.svg\" alt=\"Open In Colab\"/></a>"
      ]
    },
    {
      "cell_type": "markdown",
      "metadata": {
        "id": "O4m-uf1h6c4T",
        "colab_type": "text"
      },
      "source": [
        "Author: Saman Paidar Nia"
      ]
    },
    {
      "cell_type": "code",
      "metadata": {
        "id": "zVM7zStNQjfD",
        "colab_type": "code",
        "colab": {
          "base_uri": "https://localhost:8080/",
          "height": 34
        },
        "outputId": "16cdc026-234a-4153-ed32-ba108e0ef3e3"
      },
      "source": [
        "!pip install tensorflow-gpu==2.0.0-alpha0"
      ],
      "execution_count": 1,
      "outputs": [
        {
          "output_type": "stream",
          "text": [
            "Successfully installed google-pasta-0.1.7 tb-nightly-1.14.0a20190301 tensorflow-gpu-2.0.0a0 tf-estimator-nightly-1.14.0.dev2019030115\n"
          ],
          "name": "stdout"
        }
      ]
    },
    {
      "cell_type": "code",
      "metadata": {
        "id": "sZL4-SUN6c4f",
        "colab_type": "code",
        "colab": {}
      },
      "source": [
        "# Import libraries.\n",
        "import tensorflow as tf\n",
        "from tensorflow.python.ops import control_flow_ops\n",
        "#-----------------------------------------------------------\n",
        "import numpy\n",
        "import warnings\n",
        "import math\n",
        "import scipy\n",
        "import pandas\n",
        "#-----------------------------------------------------------\n",
        "from scipy.spatial.distance import squareform, pdist\n",
        "from math import sqrt\n",
        "from IPython.display import clear_output\n",
        "#------------------------------------------------------------\n",
        "from sklearn.datasets import fetch_20newsgroups\n",
        "from sklearn.feature_extraction.text import TfidfVectorizer\n",
        "from sklearn import preprocessing\n",
        "from sklearn import cluster, svm, metrics\n",
        "from sklearn.metrics import normalized_mutual_info_score\n",
        "from sklearn.model_selection import train_test_split\n",
        "from sklearn.metrics import pairwise\n",
        "from sklearn.neighbors import NearestNeighbors\n",
        "#------------------------------------------------------------\n",
        "import matplotlib.pyplot as plt\n",
        "from tqdm import tqdm\n",
        "import difflib\n",
        "import operator\n",
        "import random\n",
        "#------------------------------------------------------------\n",
        "warnings.filterwarnings('ignore')"
      ],
      "execution_count": 0,
      "outputs": []
    },
    {
      "cell_type": "code",
      "metadata": {
        "id": "oa-32GiKR3Pn",
        "colab_type": "code",
        "outputId": "9d930e77-5301-4904-9e51-c02cc2111484",
        "colab": {
          "base_uri": "https://localhost:8080/",
          "height": 34
        }
      },
      "source": [
        "print('Version of Tensorflow: ', tf.__version__)"
      ],
      "execution_count": 3,
      "outputs": [
        {
          "output_type": "stream",
          "text": [
            "Version of Tensorflow:  2.0.0-alpha0\n"
          ],
          "name": "stdout"
        }
      ]
    },
    {
      "cell_type": "code",
      "metadata": {
        "id": "18F1b2Vk6c5D",
        "colab_type": "code",
        "colab": {}
      },
      "source": [
        "# Compute pairwise distances between observations in n-dimensional space.\n",
        "class Similarity_Graph:\n",
        "  def get_matrix(self, data, similar_method):\n",
        "    X = preprocessing.normalize(data, norm='l2', axis=0)\n",
        "    X = squareform(pdist(X, str(similar_method)))\n",
        "    return X"
      ],
      "execution_count": 0,
      "outputs": []
    },
    {
      "cell_type": "code",
      "metadata": {
        "id": "so-AxBwg6c5R",
        "colab_type": "code",
        "colab": {}
      },
      "source": [
        "class Similarity_Dataset_Iterator():\n",
        "  def __init__(self, data, labels, similarity, similarity_method):\n",
        "    self.data = data\n",
        "    self.labels = labels\n",
        "    self.similarity_method = similarity_method\n",
        "    self.matrix = Similarity_Graph.get_matrix(self, data=self.data, similar_method=self.similarity_method)\n",
        "    self.data_size = self.matrix.shape[0]\n",
        "    self.current_index = 0\n",
        "  def next_batch(self, num):\n",
        "    data=self.matrix.transpose()\n",
        "    labels=self.labels\n",
        "    idx = numpy.arange(0, len(data))\n",
        "    numpy.random.shuffle(idx)\n",
        "    idx = idx[:num]\n",
        "    data_shuffle = [data[ i] for i in idx]\n",
        "    labels_shuffle = [labels[ i] for i in idx]\n",
        "    return data_shuffle, labels_shuffle\n",
        "  def whole_dataset(self):\n",
        "    return (self.matrix.transpose(), self.labels)"
      ],
      "execution_count": 0,
      "outputs": []
    },
    {
      "cell_type": "code",
      "metadata": {
        "id": "BzQucOvV6c5X",
        "colab_type": "code",
        "colab": {}
      },
      "source": [
        "#  Load the 20 newsgroups dataset and transform it into tf-idf vectors.\n",
        "def read_NewsGroup_data(similarity, similarity_method, categories_NG):\n",
        "  import logging\n",
        "  from optparse import OptionParser\n",
        "  import sys\n",
        "  # Display progress logs on stdout\n",
        "  logging.basicConfig(level=logging.INFO,\n",
        "                      format='%(asctime)s %(levelname)s %(message)s')\n",
        "  # parse commandline arguments\n",
        "  op = OptionParser()  \n",
        "  op.add_option(\"--no-idf\",\n",
        "                action=\"store_false\", dest=\"use_idf\", default=True,\n",
        "                help=\"Disable Inverse Document Frequency feature weighting.\")  \n",
        "  op.add_option(\"--n-features\", type=int, default=10000,\n",
        "                help=\"Maximum number of features (dimensions)\"\n",
        "                   \" to extract from text.\")\n",
        "  def is_interactive():\n",
        "      return not hasattr(sys.modules['__main__'], '__file__')\n",
        "  # work-around for Jupyter notebook and IPython console\n",
        "  argv = [] if is_interactive() else sys.argv[1:]\n",
        "  (opts, args) = op.parse_args(argv)\n",
        "  if len(args) > 0:\n",
        "      op.error(\"this script takes no arguments.\")\n",
        "      sys.exit(1)\n",
        "  if type(categories_NG) == list and not categories_NG:\n",
        "    categories_NG = ['comp.graphics','rec.sport.baseball','talk.politics.guns']      \n",
        "  elif type(categories_NG) != list:\n",
        "    categories_NG = None      \n",
        "  _n_samples = len(categories_NG) * 200  \n",
        "  vectorizer = TfidfVectorizer(max_df=0.5, max_features=opts.n_features,\n",
        "                               min_df=2, stop_words='english',\n",
        "                               use_idf=opts.use_idf)    \n",
        "  trian_set = fetch_20newsgroups(subset='all', categories=categories_NG,\n",
        "                                 shuffle=True, random_state=42)\n",
        "  data_trian_set = vectorizer.fit_transform(trian_set.data)\n",
        "  X = data_trian_set.toarray()\n",
        "  y = trian_set.target    \n",
        "  X_train, X_test, y_train, y_test = train_test_split(X, y, test_size=0.2, random_state=42)    \n",
        "  X_train = X_train[:_n_samples]\n",
        "  y_train = y_train[:_n_samples]\n",
        "  X_test = X_test[:_n_samples]\n",
        "  y_test = y_test[:_n_samples]\n",
        "  Similarity_X = Similarity_Dataset_Iterator(X_train, y_train, similarity, similarity_method)    \n",
        "  return (X_train, y_train, X_test, y_test, categories_NG, Similarity_X)"
      ],
      "execution_count": 0,
      "outputs": []
    },
    {
      "cell_type": "code",
      "metadata": {
        "id": "j2gOn1j3Y8o_",
        "colab_type": "code",
        "colab": {}
      },
      "source": [
        "list_20groups = ['alt.atheism','comp.graphics','comp.os.ms-windows.misc',\n",
        "                 'comp.sys.ibm.pc.hardware','comp.sys.mac.hardware',\n",
        "                 'comp.windows.x','misc.forsale','rec.autos','rec.motorcycles',\n",
        "                 'rec.sport.baseball','rec.sport.hockey','sci.crypt',\n",
        "                 'sci.electronics','sci.med','sci.space','soc.religion.christian',\n",
        "                 'talk.politics.guns','talk.politics.mideast',\n",
        "                 'talk.politics.misc','talk.religion.misc']"
      ],
      "execution_count": 0,
      "outputs": []
    },
    {
      "cell_type": "code",
      "metadata": {
        "id": "-i05iYEYaW8D",
        "colab_type": "code",
        "colab": {}
      },
      "source": [
        "def list_groups():\n",
        "  for jj in range(len(list_20groups)):\n",
        "    print('{:d} : {}'.format(jj+1, list_20groups[jj]))\n",
        "  print('\\n')"
      ],
      "execution_count": 0,
      "outputs": []
    },
    {
      "cell_type": "code",
      "metadata": {
        "id": "NSD_28dSEj0C",
        "colab_type": "code",
        "outputId": "e27c4423-b80e-4089-f225-c7d56698ce00",
        "colab": {
          "base_uri": "https://localhost:8080/",
          "height": 510
        }
      },
      "source": [
        "list_groups()\n",
        "categories_NG = []\n",
        "n_groups = 0\n",
        "count_run = False\n",
        "while True:\n",
        "  if count_run == False:\n",
        "    count_run = True\n",
        "    category = input('Please insert one by one number of your desired group'\n",
        "                     'from the list above:\\n'\n",
        "                     'e.g. type: 1, then press enter.\\n'                     \n",
        "                     '***The form again shows up and wating for the next'\n",
        "                     'insert***\\n'\n",
        "                     '***whenever you done, just press the enter without'\n",
        "                     'inserting value***\\n'                   \n",
        "                     '***Another valid values: <<6NG>> for 6 default groups,'\n",
        "                     'blank value for 3 default groups***\\n'\n",
        "                     'Enter here: ')\n",
        "  else:\n",
        "    category = input()\n",
        "  try:\n",
        "    category = int(category)\n",
        "    if 1 <= category <= 20:\n",
        "      n_groups += 1\n",
        "      category = category - 1\n",
        "      categories_NG.append(list_20groups[category])\n",
        "      print('Please insert next number of your desired group from the list above:\\n'\n",
        "            'Enter here: ')\n",
        "    else:\n",
        "      print('Please insert number between 1 to 20 ...')      \n",
        "  except ValueError:\n",
        "    if category == '' and n_groups == 0:\n",
        "      categories_NG = []\n",
        "      n_groups = 3\n",
        "      print('You selected 3 default groups.')\n",
        "      break\n",
        "    elif category == '' and n_groups > 0:\n",
        "      print('You selected {:d} groups.'.format(n_groups))\n",
        "      break\n",
        "    elif category == '6NG' or category == '6ng':\n",
        "      categories_NG = ['soc.religion.christian','talk.politics.guns',\n",
        "                       'comp.graphics','talk.politics.mideast','sci.crypt',\n",
        "                       'rec.sport.hockey']\n",
        "      n_groups = 6\n",
        "      print('You selected 6 newsgroups.')\n",
        "      break\n",
        "    else:\n",
        "      print('Please insert valid value!!!')"
      ],
      "execution_count": 9,
      "outputs": [
        {
          "output_type": "stream",
          "text": [
            "1 : alt.atheism\n",
            "2 : comp.graphics\n",
            "3 : comp.os.ms-windows.misc\n",
            "4 : comp.sys.ibm.pc.hardware\n",
            "5 : comp.sys.mac.hardware\n",
            "6 : comp.windows.x\n",
            "7 : misc.forsale\n",
            "8 : rec.autos\n",
            "9 : rec.motorcycles\n",
            "10 : rec.sport.baseball\n",
            "11 : rec.sport.hockey\n",
            "12 : sci.crypt\n",
            "13 : sci.electronics\n",
            "14 : sci.med\n",
            "15 : sci.space\n",
            "16 : soc.religion.christian\n",
            "17 : talk.politics.guns\n",
            "18 : talk.politics.mideast\n",
            "19 : talk.politics.misc\n",
            "20 : talk.religion.misc\n",
            "\n",
            "\n",
            "Please insert one by one number of your desired groupfrom the list above:\n",
            "e.g. type: 1, then press enter.\n",
            "***The form again shows up and wating for the nextinsert***\n",
            "***whenever you done, just press the enter withoutinserting value***\n",
            "***Another valid values: <<6NG>> for 6 default groups,blank value for 3 default groups***\n",
            "Enter here: 6NG\n",
            "You selected 6 newsgroups.\n"
          ],
          "name": "stdout"
        }
      ]
    },
    {
      "cell_type": "code",
      "metadata": {
        "id": "mx4mqUHsrOyA",
        "colab_type": "code",
        "colab": {}
      },
      "source": [
        "similarity_methods = ['cosine','correlation','euclidean','sqeuclidean',\n",
        "                      'mahalanobis','chebyshev','canberra','braycurtis','cityblock']"
      ],
      "execution_count": 0,
      "outputs": []
    },
    {
      "cell_type": "code",
      "metadata": {
        "id": "0BwfLtq3rO5E",
        "colab_type": "code",
        "colab": {}
      },
      "source": [
        "def list_similarity_methods():\n",
        "  for jjj in range(len(similarity_methods)):\n",
        "    print('{:d} : {}'.format(jjj+1, similarity_methods[jjj]))\n",
        "  print('\\n')"
      ],
      "execution_count": 0,
      "outputs": []
    },
    {
      "cell_type": "code",
      "metadata": {
        "id": "oFtoY4jKrO3C",
        "colab_type": "code",
        "outputId": "5333a3e5-80ef-4845-9ff5-9497d7d6ffe0",
        "colab": {
          "base_uri": "https://localhost:8080/",
          "height": 289
        }
      },
      "source": [
        "list_similarity_methods()\n",
        "while True:\n",
        "  similarity_ = input('Please insert code of your desired similarity distance'\n",
        "                      'measurment from the list above:\\n'\n",
        "                      'e.g. type: 1, then press enter.\\n'                     \n",
        "                      '***Blank value for Correlation Distance.***\\n'\n",
        "                      'Enter here: ')\n",
        "  try:\n",
        "    similarity_ = int(similarity_)\n",
        "    if 1 <= similarity_ <= len(similarity_methods):\n",
        "      similarity_method = similarity_methods[similarity_-1]\n",
        "      print('You selected: ', similarity_method)\n",
        "      break\n",
        "    else:\n",
        "      print('Please insert number between 1 to 9 ...')      \n",
        "  except ValueError:\n",
        "    similarity_method = 'correlation'\n",
        "    print('You selected: ', similarity_method)\n",
        "    break"
      ],
      "execution_count": 12,
      "outputs": [
        {
          "output_type": "stream",
          "text": [
            "1 : cosine\n",
            "2 : correlation\n",
            "3 : euclidean\n",
            "4 : sqeuclidean\n",
            "5 : mahalanobis\n",
            "6 : chebyshev\n",
            "7 : canberra\n",
            "8 : braycurtis\n",
            "9 : cityblock\n",
            "\n",
            "\n",
            "Please insert code of your desired similarity distancemeasurment from the list above:\n",
            "e.g. type: 1, then press enter.\n",
            "***Blank value for Correlation Distance.***\n",
            "Enter here: \n",
            "You selected:  correlation\n"
          ],
          "name": "stdout"
        }
      ]
    },
    {
      "cell_type": "code",
      "metadata": {
        "id": "gaO4obdpWNIW",
        "colab_type": "code",
        "colab": {
          "base_uri": "https://localhost:8080/",
          "height": 102
        },
        "outputId": "f6ac2050-1dc0-4ce5-dad5-4b7fa4b85c11"
      },
      "source": [
        "X_train, y_train, X_test, y_test, categories_lables, train_set = read_NewsGroup_data(\n",
        "    Similarity_Graph(), similarity_method, categories_NG)"
      ],
      "execution_count": 13,
      "outputs": [
        {
          "output_type": "stream",
          "text": [
            "Downloading 20news dataset. This may take a few minutes.\n",
            "WARNING: Logging before flag parsing goes to stderr.\n",
            "I0601 13:36:54.147228 139908476016512 twenty_newsgroups.py:247] Downloading 20news dataset. This may take a few minutes.\n",
            "Downloading dataset from https://ndownloader.figshare.com/files/5975967 (14 MB)\n",
            "I0601 13:36:54.154534 139908476016512 twenty_newsgroups.py:80] Downloading dataset from https://ndownloader.figshare.com/files/5975967 (14 MB)\n"
          ],
          "name": "stderr"
        }
      ]
    },
    {
      "cell_type": "code",
      "metadata": {
        "id": "8EsMoI0h6c5v",
        "colab_type": "code",
        "outputId": "b18b775c-0a2e-4fd9-b627-a8f754f478ea",
        "colab": {
          "base_uri": "https://localhost:8080/",
          "height": 34
        }
      },
      "source": [
        "n_input = train_set.data_size \n",
        "print('Number of sample are: ', n_input)"
      ],
      "execution_count": 14,
      "outputs": [
        {
          "output_type": "stream",
          "text": [
            "Number of sample are:  1200\n"
          ],
          "name": "stdout"
        }
      ]
    },
    {
      "cell_type": "code",
      "metadata": {
        "id": "tVgcJua3TQg2",
        "colab_type": "code",
        "outputId": "e3294d2c-22f9-46eb-c130-01c659bc3e75",
        "colab": {
          "base_uri": "https://localhost:8080/",
          "height": 51
        }
      },
      "source": [
        "print('Number of features before similarity matrix are:  ', X_train.shape[1])\n",
        "print('Number of features after similarity matrix are:   ', n_input)\n"
      ],
      "execution_count": 15,
      "outputs": [
        {
          "output_type": "stream",
          "text": [
            "Number of features before similarity matrix are:   10000\n",
            "Number of features after similarity matrix are:    1200\n"
          ],
          "name": "stdout"
        }
      ]
    },
    {
      "cell_type": "code",
      "metadata": {
        "id": "Ru-MWpyh6c51",
        "colab_type": "code",
        "colab": {}
      },
      "source": [
        "def find_geometric_value():\n",
        "  geometric_value = 2\n",
        "  while n_input > geometric_value:\n",
        "    geometric_value = geometric_value * 2\n",
        "  geometric_value = geometric_value / 2\n",
        "  return int(geometric_value)"
      ],
      "execution_count": 0,
      "outputs": []
    },
    {
      "cell_type": "code",
      "metadata": {
        "id": "e2IUPkGQ6c5-",
        "colab_type": "code",
        "colab": {}
      },
      "source": [
        "def find_max_layers(embedded_node):    \n",
        "  if embedded_node is None:\n",
        "    embedded_node = int(2)\n",
        "  next_layer = find_geometric_value()\n",
        "  count_layers = 0\n",
        "  while next_layer >= embedded_node:\n",
        "    count_layers += 1\n",
        "    next_layer = next_layer / 2\n",
        "  max_layers = count_layers - 1\n",
        "  return str(embedded_node), max_layers, find_geometric_value()"
      ],
      "execution_count": 0,
      "outputs": []
    },
    {
      "cell_type": "code",
      "metadata": {
        "id": "tiOyh7zF6c6S",
        "colab_type": "code",
        "colab": {}
      },
      "source": [
        "def get_n_codes(embedded_node):\n",
        "  n_code, n_max_layers, first_layer = find_max_layers(embedded_node)\n",
        "  return n_code, n_max_layers, first_layer"
      ],
      "execution_count": 0,
      "outputs": []
    },
    {
      "cell_type": "code",
      "metadata": {
        "id": "WZvuiqNL6c61",
        "colab_type": "code",
        "colab": {}
      },
      "source": [
        "def get_geometric(embedded_node):\n",
        "  __, n_max_layers, first_layer = find_max_layers(embedded_node)\n",
        "  n_hidden_layer = [first_layer]\n",
        "  geometric_progress = first_layer\n",
        "  for i in range(1, n_max_layers):\n",
        "    geometric_progress = int(geometric_progress / 2)\n",
        "    n_hidden_layer.append(geometric_progress)\n",
        "  return n_hidden_layer"
      ],
      "execution_count": 0,
      "outputs": []
    },
    {
      "cell_type": "code",
      "metadata": {
        "id": "IC-dkWfFlMbj",
        "colab_type": "code",
        "colab": {}
      },
      "source": [
        "def get_hidden_layer(num_hidden, embedded_node):\n",
        "  n_hidden_layer = get_geometric(embedded_node)  \n",
        "  return n_hidden_layer[:num_hidden]"
      ],
      "execution_count": 0,
      "outputs": []
    },
    {
      "cell_type": "code",
      "metadata": {
        "id": "u8j1y2yqlMik",
        "colab_type": "code",
        "colab": {}
      },
      "source": [
        "def define_hidden_layer(embedded_node):\n",
        "  __, n_max_layers, __ = get_n_codes(embedded_node)  \n",
        "  value_hl = int(sqrt(n_max_layers))\n",
        "  num_hidden_layers = get_hidden_layer(value_hl, embedded_node)\n",
        "  return num_hidden_layers"
      ],
      "execution_count": 0,
      "outputs": []
    },
    {
      "cell_type": "code",
      "metadata": {
        "id": "rbOgBkrNlMoT",
        "colab_type": "code",
        "colab": {}
      },
      "source": [
        "def define_scope_layer(embedded_node):\n",
        "  num_hidden_layers = define_hidden_layer(embedded_node)\n",
        "  scope_layer = []\n",
        "  for i in range(1, len(num_hidden_layers)+1):\n",
        "    new_word = \"hidden-layer-\"\n",
        "    character = str(i)\n",
        "    new_word += character\n",
        "    scope_layer.append(new_word)\n",
        "  return scope_layer, num_hidden_layers"
      ],
      "execution_count": 0,
      "outputs": []
    },
    {
      "cell_type": "code",
      "metadata": {
        "id": "vHw7ZhkvlMYp",
        "colab_type": "code",
        "colab": {}
      },
      "source": [
        "def encoder(x, n_code, mode_train, embedded_node):\n",
        "    scope_layer, num_hidden_layers = define_scope_layer(embedded_node)    \n",
        "    with tf.compat.v1.variable_scope(\"encoder\"):\n",
        "      hidden = [None] * len(num_hidden_layers)\n",
        "      for ii in range(len(num_hidden_layers)):\n",
        "        if scope_layer[ii] == 'hidden-layer-1':\n",
        "          with tf.compat.v1.variable_scope(scope_layer[ii]):\n",
        "            hidden[ii] = layer_sigmoid(x, [n_input, num_hidden_layers[ii]],\n",
        "                                       [num_hidden_layers[ii]], mode_train)\n",
        "        else:\n",
        "          with tf.compat.v1.variable_scope(scope_layer[ii]):\n",
        "            hidden[ii] = layer_sigmoid(hidden[ii-1], [num_hidden_layers[ii-1],\n",
        "                                                      num_hidden_layers[ii]],\n",
        "                                       [num_hidden_layers[ii]], mode_train)  \n",
        "      with tf.compat.v1.variable_scope(\"embedded\"):\n",
        "        code = layer_sigmoid(hidden[-1], [num_hidden_layers[-1], n_code],\n",
        "                             [n_code], mode_train)\n",
        "    return code"
      ],
      "execution_count": 0,
      "outputs": []
    },
    {
      "cell_type": "code",
      "metadata": {
        "id": "ze63g3GOlMUM",
        "colab_type": "code",
        "colab": {}
      },
      "source": [
        "def decoder(code, n_code, mode_train, embedded_node):\n",
        "    scope_layer, num_hidden_layers = define_scope_layer(embedded_node)\n",
        "    with tf.compat.v1.variable_scope(\"decoder\"):\n",
        "      hidden = [None] * len(num_hidden_layers)\n",
        "      for ii in range(len(num_hidden_layers)):\n",
        "        if scope_layer[ii] == 'hidden-layer-1':\n",
        "          with tf.compat.v1.variable_scope(scope_layer[ii]):\n",
        "            hidden[ii] = layer_sigmoid(code, [n_code, num_hidden_layers[-1]],\n",
        "                                       [num_hidden_layers[-1]], mode_train)\n",
        "        else:\n",
        "          with tf.compat.v1.variable_scope(scope_layer[ii]):\n",
        "            hidden[ii] = layer_sigmoid(hidden[ii-1], [num_hidden_layers[-(ii)],\n",
        "                                                      num_hidden_layers[-(ii+1)]],\n",
        "                                       [num_hidden_layers[-(ii+1)]], mode_train)        \n",
        "      with tf.compat.v1.variable_scope(\"reconstructed\"):\n",
        "        output = layer_sigmoid(hidden[-1], [num_hidden_layers[0], n_input],\n",
        "                               [n_input], mode_train)\n",
        "    return output"
      ],
      "execution_count": 0,
      "outputs": []
    },
    {
      "cell_type": "code",
      "metadata": {
        "id": "bEDRMWgZR50_",
        "colab_type": "code",
        "colab": {}
      },
      "source": [
        "def batch_norm(x, n_out, mode_train):\n",
        "    beta_initialize = tf.compat.v1.constant_initializer(value=0.1, dtype=tf.float32)\n",
        "    gamma_initialize = tf.compat.v1.constant_initializer(value=0.9, dtype=tf.float32)\n",
        "    beta = tf.compat.v1.get_variable(\"beta\", [n_out], initializer=beta_initialize)\n",
        "    gamma = tf.compat.v1.get_variable(\"gamma\", [n_out], initializer=gamma_initialize)\n",
        "    batch_mean, batch_var = tf.nn.moments(x=x, axes=[0], name='moments')\n",
        "    ema = tf.train.ExponentialMovingAverage(decay=0.5)\n",
        "    ema_apply_op = ema.apply([batch_mean, batch_var])\n",
        "    ema_mean, ema_var = ema.average(batch_mean), ema.average(batch_var)\n",
        "    def mean_var():\n",
        "        with tf.control_dependencies([ema_apply_op]):\n",
        "            return tf.identity(batch_mean), tf.identity(batch_var)\n",
        "    mean, var = control_flow_ops.cond(mode_train, mean_var, lambda: (ema_mean, ema_var))\n",
        "    reshaped_x = tf.reshape(x, [-1, 1, 1, n_out])\n",
        "    normed = tf.nn.batch_norm_with_global_normalization(reshaped_x, mean, var, beta, gamma,\n",
        "                                                        1e-08, True)\n",
        "    return tf.reshape(normed, [-1, n_out])"
      ],
      "execution_count": 0,
      "outputs": []
    },
    {
      "cell_type": "code",
      "metadata": {
        "id": "uoGLJmgGk9CM",
        "colab_type": "code",
        "colab": {}
      },
      "source": [
        "def layer_sigmoid(input, weight_shape, bias_shape, mode_train):\n",
        "    weight_initialize = tf.compat.v1.random_normal_initializer(stddev = (1.0 / weight_shape[0] ** 0.5))\n",
        "    bias_initialize = tf.compat.v1.random_normal_initializer(stddev = (1.0 / bias_shape[0] ** 0.5))\n",
        "    w = tf.compat.v1.get_variable(\"w\", weight_shape, initializer = weight_initialize)\n",
        "    b = tf.compat.v1.get_variable(\"b\", bias_shape, initializer = bias_initialize)\n",
        "    return tf.nn.sigmoid(batch_norm((tf.matmul(input, w) + b), weight_shape[1], mode_train))"
      ],
      "execution_count": 0,
      "outputs": []
    },
    {
      "cell_type": "code",
      "metadata": {
        "id": "DJIKwGTp6c7J",
        "colab_type": "code",
        "colab": {}
      },
      "source": [
        "def layer_tanh(input, weight_shape, bias_shape, mode_train):\n",
        "    weight_initialize = tf.compat.v1.random_normal_initializer(stddev = (1.0 / weight_shape[0] ** 0.5))\n",
        "    bias_initialize = tf.compat.v1.random_normal_initializer(stddev = (1.0 / bias_shape[0] ** 0.5))\n",
        "    w = tf.compat.v1.get_variable(\"w\", weight_shape, initializer = weight_initialize)\n",
        "    b = tf.compat.v1.get_variable(\"b\", bias_shape, initializer = bias_initialize)\n",
        "    return tf.nn.tanh(batch_norm((tf.matmul(input, w) + b), weight_shape[1], mode_train))"
      ],
      "execution_count": 0,
      "outputs": []
    },
    {
      "cell_type": "code",
      "metadata": {
        "id": "YuXzeogo6c7T",
        "colab_type": "code",
        "colab": {}
      },
      "source": [
        "def loss_function(reconstructed, x):\n",
        "  with tf.compat.v1.variable_scope(\"train\"):\n",
        "    t = tf.math.subtract(x, reconstructed)\n",
        "    t = tf.math.square(t)\n",
        "    t = tf.math.reduce_sum(t)\n",
        "    t = tf.math.reduce_mean(t)\n",
        "    return t"
      ],
      "execution_count": 0,
      "outputs": []
    },
    {
      "cell_type": "code",
      "metadata": {
        "id": "fAWDozNT6c7Z",
        "colab_type": "code",
        "colab": {}
      },
      "source": [
        "def training(cost, learning_rate, beta1, beta2, global_step):\n",
        "    optimizer = tf.compat.v1.train.AdamOptimizer(learning_rate, beta1, beta2,\n",
        "                                                 epsilon=1e-08, use_locking=False,\n",
        "                                                 name='Adam')\n",
        "    compute_gradient = optimizer.compute_gradients(cost)\n",
        "    apply_gradient = optimizer.apply_gradients(compute_gradient, global_step=global_step)\n",
        "    return apply_gradient"
      ],
      "execution_count": 0,
      "outputs": []
    },
    {
      "cell_type": "code",
      "metadata": {
        "id": "jMw5xEosDgQQ",
        "colab_type": "code",
        "colab": {}
      },
      "source": [
        "def k_means(X, n_clusters):\n",
        "    kmeans = cluster.KMeans(n_clusters=n_clusters)\n",
        "    return kmeans.fit(X).labels_"
      ],
      "execution_count": 0,
      "outputs": []
    },
    {
      "cell_type": "code",
      "metadata": {
        "id": "G3TCnxbK6c7m",
        "colab_type": "code",
        "colab": {}
      },
      "source": [
        "data_set, labels_set = train_set.whole_dataset() #---- Allocation of data and labels"
      ],
      "execution_count": 0,
      "outputs": []
    },
    {
      "cell_type": "code",
      "metadata": {
        "id": "kCV6Oe7JWC58",
        "colab_type": "code",
        "colab": {}
      },
      "source": [
        "n_kneighbors = 3\n",
        "def knn_samples(X, n_kneighbors):\n",
        "  nbrs = NearestNeighbors(n_neighbors = n_kneighbors).fit(X)\n",
        "  distances, indices = nbrs.kneighbors(X)\n",
        "  return indices\n",
        "index_input = knn_samples(X_train, n_kneighbors)"
      ],
      "execution_count": 0,
      "outputs": []
    },
    {
      "cell_type": "code",
      "metadata": {
        "id": "3rolpRRsOxfW",
        "colab_type": "code",
        "colab": {}
      },
      "source": [
        "# Parameters\n",
        "beta1 = 0.9 #-------------------------------------- Decay rate 1.  \n",
        "beta2 = 0.99 #------------------------------------- Decay rate 2\n",
        "learning_rate = 0.001 #---------------------------- Learning rate.\n",
        "n_batch = 8  #------------------------------------- Number of selection data in per step.\n",
        "epochs = 40 # ------------------------------------- Number of Epochs.\n",
        "n_interior = n_input // n_batch"
      ],
      "execution_count": 0,
      "outputs": []
    },
    {
      "cell_type": "code",
      "metadata": {
        "id": "kWlFbUtly48j",
        "colab_type": "code",
        "colab": {}
      },
      "source": [
        "n_embedded_code = [4, 8, 16, 32, 64, 128, 256]"
      ],
      "execution_count": 0,
      "outputs": []
    },
    {
      "cell_type": "code",
      "metadata": {
        "id": "sURC1I6FAJeQ",
        "colab_type": "code",
        "outputId": "6505991e-616b-4a1e-d763-d1d1f0b1a84b",
        "colab": {
          "base_uri": "https://localhost:8080/",
          "height": 102
        }
      },
      "source": [
        "print('Number of Samples are: -------------------------->',n_input)\n",
        "print('Number of Embedded Goal-------------------------->',n_embedded_code)\n",
        "print('Number of epochs are: --------------------------->',epochs)\n",
        "print('Number of batch sizes are: ---------------------->',n_batch)\n",
        "print('Number of Backpropagation in each epoch is: ----->',n_interior)\n"
      ],
      "execution_count": 36,
      "outputs": [
        {
          "output_type": "stream",
          "text": [
            "Number of Samples are: --------------------------> 1200\n",
            "Number of Embedded Goal--------------------------> [4, 8, 16, 32, 64, 128, 256]\n",
            "Number of epochs are: ---------------------------> 40\n",
            "Number of batch sizes are: ----------------------> 8\n",
            "Number of Backpropagation in each epoch is: -----> 150\n"
          ],
          "name": "stdout"
        }
      ]
    },
    {
      "cell_type": "code",
      "metadata": {
        "id": "W1aZrQDP6c7s",
        "colab_type": "code",
        "colab": {}
      },
      "source": [
        "loss_cost=[] #------- A list to keep all training evaluations.\n",
        "steps=[] #----------- A list to keep all steps.\n",
        "NMI_step = [] #------ A list to keep all NMI progresses.\n",
        "l_mean = []\n",
        "k_mean = []\n",
        "list_pvals = []\n",
        "list_rhos = []\n",
        "score_svm = []"
      ],
      "execution_count": 0,
      "outputs": []
    },
    {
      "cell_type": "code",
      "metadata": {
        "id": "1BHFX7s96c74",
        "colab_type": "code",
        "outputId": "8142a0d4-e712-422b-9745-719d2414c986",
        "colab": {
          "base_uri": "https://localhost:8080/",
          "height": 34
        }
      },
      "source": [
        "for i_embedded_code in tqdm(n_embedded_code):\n",
        "  n_code,__,__ = get_n_codes(i_embedded_code)\n",
        "  with tf.Graph().as_default():    \n",
        "    with tf.compat.v1.variable_scope(\"autoencoder_architecture\"):\n",
        "        x = tf.compat.v1.placeholder(\"float\", [None, n_input])   \n",
        "        mode_train = tf.compat.v1.placeholder(tf.bool)\n",
        "        code = encoder(x, int(n_code), mode_train, i_embedded_code)\n",
        "        reconstructed = decoder(code, int(n_code), mode_train, i_embedded_code)\n",
        "        cost = loss_function(reconstructed, x)\n",
        "        global_step = tf.Variable(0, name='global_step', trainable=False)\n",
        "        train_optimizer = training(cost, learning_rate, beta1, beta2,global_step)\n",
        "        sess = tf.compat.v1.Session()\n",
        "        init_op = tf.compat.v1.global_variables_initializer()\n",
        "        sess.run(init_op)\n",
        "        # Training cycle\n",
        "        for epoch in range(epochs):\n",
        "          for interior in range(n_interior):\n",
        "          # Fit training with Backpropagation using batch data.\n",
        "            miniData, _ = train_set.next_batch(n_batch)\n",
        "            _, new_cost = sess.run([train_optimizer, cost],\n",
        "                                   feed_dict={x: miniData, mode_train:True})    \n",
        "            #------------------------- Save the optimized data -----------------\n",
        "  steps.append(i_embedded_code)\n",
        "  loss_cost.append(new_cost)\n",
        "  ae_codes = sess.run(code, feed_dict={x: data_set, mode_train: False})\n",
        "  pred_KMeans_code = k_means(ae_codes, n_groups)\n",
        "  nmi_KMeans_code = normalized_mutual_info_score(labels_set, pred_KMeans_code)\n",
        "  NMI_step.append(round(nmi_KMeans_code, 2))\n",
        "  index_code = knn_samples(ae_codes, n_kneighbors)\n",
        "  list_rho = []\n",
        "  list_pval = []\n",
        "  list_r = []  \n",
        "  for qq in range(len(index_input)):    \n",
        "    sm = difflib.SequenceMatcher(None, index_input[qq], index_code[qq])\n",
        "    list_r.append(sm.quick_ratio())\n",
        "    rho, pval = scipy.stats.spearmanr(index_input[qq], index_code[qq])\n",
        "    list_rho.append(rho)\n",
        "    list_pval.append(pval)  \n",
        "  list_rhos.append(round(numpy.mean(list_rho), 2))\n",
        "  list_pvals.append(round(numpy.mean(list_pval), 2))\n",
        "  l_mean.append(round(numpy.mean(list_r)*100, 2))\n",
        "  # Comparison of linear SVM classifier on different dimensions projection.  \n",
        "  _X_train, _X_test, _y_train, _y_test = train_test_split(\n",
        "      ae_codes, labels_set, test_size=0.25, random_state=42)\n",
        "  clf = svm.SVC(kernel='linear', C=1.0).fit(_X_train, _y_train)\n",
        "  accuracy_svm = metrics.accuracy_score(_y_test, clf.predict(_X_test))\n",
        "  score_svm.append(round(accuracy_svm, 2))"
      ],
      "execution_count": 38,
      "outputs": [
        {
          "output_type": "stream",
          "text": [
            "100%|██████████| 7/7 [05:25<00:00, 43.40s/it]\n"
          ],
          "name": "stderr"
        }
      ]
    },
    {
      "cell_type": "code",
      "metadata": {
        "id": "Z6Slhgx2lZDj",
        "colab_type": "code",
        "outputId": "c3a0fb80-ab17-424f-fdbb-5633d3e93537",
        "colab": {
          "base_uri": "https://localhost:8080/",
          "height": 326
        }
      },
      "source": [
        "xi = [i for i in range(0, len(steps))]\n",
        "plt.figure(figsize=(16,3))\n",
        "plt.subplots_adjust(wspace=0.3, hspace=0.3)\n",
        "plt.subplot(1,3,1)\n",
        "plt.plot(xi, NMI_step, color='k', linestyle='--', label = 'NMI KMeans', marker='.')\n",
        "plt.plot(xi, score_svm, color='b', linestyle='-', label = 'Score SVM', marker='.')\n",
        "plt.xlabel('Number of Dimension'),plt.ylabel('Scores')\n",
        "plt.title('Accuracy of SVM and KMeans for {:d}NG'.format(len(categories_lables)))\n",
        "plt.xticks(xi, steps)\n",
        "plt.grid()\n",
        "plt.legend()\n",
        "plt.subplot(1,3,2)\n",
        "plt.plot(xi, list_rhos, color='g', linestyle='-', label ='Correlation', marker='.')\n",
        "plt.plot(xi, list_pvals, color='y', linestyle='--', label ='PValue', marker='.')\n",
        "plt.xlabel('Number of Dimension'),plt.ylabel('Rank Correlation Score')\n",
        "plt.title('Rank Correlation for {:d}NG'.format(len(categories_lables)))\n",
        "plt.xticks(xi, steps)\n",
        "plt.grid()\n",
        "plt.legend()\n",
        "plt.subplot(1,3,3)\n",
        "plt.plot(xi, l_mean, color='r', linestyle='--', label ='KNN Score', marker='.')\n",
        "plt.xlabel('Number of Dimension'),plt.ylabel('Nearest Neighbors Score')\n",
        "plt.title('Rank Nearest Neighbors for {:d}NG'.format(len(categories_lables)))\n",
        "plt.xticks(xi, steps)\n",
        "plt.grid()\n",
        "plt.legend()\n",
        "\n",
        "plt.show()\n",
        "print('\\nNumber of original dataset dimension are: ------->',X_train.shape[1])\n",
        "print('Number of samples are: -------------------------->',n_input)\n",
        "print('Number of embedded goal-------------------------->',n_code)\n",
        "print('Number of batch sizes are: ---------------------->',n_batch)"
      ],
      "execution_count": 39,
      "outputs": [
        {
          "output_type": "display_data",
          "data": {
            "image/png": "[encoded data removed]",
            "text/plain": [
              "<Figure size 1152x216 with 3 Axes>"
            ]
          },
          "metadata": {
            "tags": []
          }
        },
        {
          "output_type": "stream",
          "text": [
            "\n",
            "Number of original dataset dimension are: -------> 10000\n",
            "Number of samples are: --------------------------> 1200\n",
            "Number of embedded goal--------------------------> 256\n",
            "Number of batch sizes are: ----------------------> 8\n"
          ],
          "name": "stdout"
        }
      ]
    },
    {
      "cell_type": "code",
      "metadata": {
        "id": "Mpcv_myOqV5z",
        "colab_type": "code",
        "colab": {}
      },
      "source": [
        "top_Kbatch_NN = sorted(zip(map(lambda x: round(x, 2), l_mean), steps), reverse=True)[:10]\n",
        "top_Kbatch_Corr = sorted(zip(map(lambda x: round(x, 2), list_rhos), steps), reverse=True)[:10]\n",
        "top_Kbatch_NMI = sorted(zip(map(lambda x: round(x, 2), NMI_step), steps), reverse=True)[:10]\n",
        "top_Kbatch_SVM = sorted(zip(map(lambda x: round(x, 2), score_svm), steps), reverse=True)[:10]"
      ],
      "execution_count": 0,
      "outputs": []
    },
    {
      "cell_type": "code",
      "metadata": {
        "id": "ad8rHsjiqWvw",
        "colab_type": "code",
        "outputId": "4d268b92-06f5-4d3f-c109-88070076cd32",
        "colab": {
          "base_uri": "https://localhost:8080/",
          "height": 241
        }
      },
      "source": [
        "plt.figure(figsize=(18,3))\n",
        "plt.subplots_adjust(wspace=0.3, hspace=0.3)\n",
        "plt.subplot(1,4,1)\n",
        "plt.bar(numpy.arange(len(list(zip(*top_Kbatch_NMI))[1])),\n",
        "        list(zip(*top_Kbatch_NMI))[0], color='k', width=0.6)\n",
        "plt.xticks(numpy.arange(len(list(zip(*top_Kbatch_NMI))[1])),\n",
        "           list(zip(*top_Kbatch_NMI))[1]) \n",
        "plt.title('Rank NMI for {:d}NG'.format(len(categories_lables)))\n",
        "plt.xlabel('K - Dimension')\n",
        "plt.ylabel('Score K - Dimension')\n",
        "plt.subplot(1,4,2)\n",
        "plt.bar(numpy.arange(len(list(zip(*top_Kbatch_SVM))[1])),\n",
        "        list(zip(*top_Kbatch_SVM))[0], color='b', width=0.6)\n",
        "plt.xticks(numpy.arange(len(list(zip(*top_Kbatch_SVM))[1])),\n",
        "           list(zip(*top_Kbatch_SVM))[1])\n",
        "plt.title('Rank Linear SVM for {:d}NG'.format(len(categories_lables)))\n",
        "plt.xlabel('K - Dimension')\n",
        "plt.ylabel('Score K - Dimension')\n",
        "plt.subplot(1,4,3)\n",
        "plt.bar(numpy.arange(len(list(zip(*top_Kbatch_Corr))[1])),\n",
        "        list(zip(*top_Kbatch_Corr))[0], color='g', width=0.6)\n",
        "plt.xticks(numpy.arange(len(list(zip(*top_Kbatch_Corr))[1])),\n",
        "           list(zip(*top_Kbatch_Corr))[1]) \n",
        "plt.title('Rank Correlation for {:d}NG'.format(len(categories_lables)))\n",
        "plt.xlabel('K - Dimension')\n",
        "plt.ylabel('Score K - Dimension')\n",
        "plt.subplot(1,4,4)\n",
        "plt.bar(numpy.arange(len(list(zip(*top_Kbatch_NN))[1])),\n",
        "        list(zip(*top_Kbatch_NN))[0], color='r', width=0.6)\n",
        "plt.xticks(numpy.arange(len(list(zip(*top_Kbatch_NN))[1])),\n",
        "           list(zip(*top_Kbatch_NN))[1])\n",
        "plt.title('Rank Nearest Neighbors for {:d}NG'.format(len(categories_lables)))\n",
        "plt.xlabel('K - Dimension')\n",
        "plt.ylabel('Score K - Dimension')\n",
        "plt.show()"
      ],
      "execution_count": 41,
      "outputs": [
        {
          "output_type": "display_data",
          "data": {
            "image/png": "[encoded data removed]",
            "text/plain": [
              "<Figure size 1296x216 with 4 Axes>"
            ]
          },
          "metadata": {
            "tags": []
          }
        }
      ]
    },
    {
      "cell_type": "code",
      "metadata": {
        "id": "3uZtGZLccwNj",
        "colab_type": "code",
        "colab": {
          "base_uri": "https://localhost:8080/",
          "height": 119
        },
        "outputId": "4aa98beb-0d5f-4b10-ee4e-d89041fbf746"
      },
      "source": [
        "_X_train, _X_test, _y_train, _y_test = train_test_split(data_set, labels_set,\n",
        "                                                        test_size=0.25, random_state=42)\n",
        "clf1 = svm.SVC(kernel='linear', C=1.0).fit(_X_train, _y_train)\n",
        "_Xtrain, _Xtest, _ytrain, _ytest = train_test_split(X_train, y_train,\n",
        "                                                    test_size=0.25, random_state=42)\n",
        "clf2 = svm.SVC(kernel='linear', C=1.0).fit(_Xtrain, _ytrain)\n",
        "accuracySM = metrics.accuracy_score(_y_test, clf1.predict(_X_test))\n",
        "accuracyML = metrics.accuracy_score(_ytest, clf2.predict(_Xtest))\n",
        "print(\"\\nAccuracy of SVM on similarity matrix with {:d} dimensions is {:0.2f}%\".format(\n",
        "    data_set.shape[1], 100 * accuracySM))\n",
        "print(\"\\nAccuracy of SVM on original dataset with {:d} dimensions is {:0.2f}%\".format(\n",
        "    X_train.shape[1], 100 * accuracyML))\n",
        "print(\"\\nAccuracy of SVM on bottleneck code with {:d} dimensions is {:0.2f}%\".format(\n",
        "    top_Kbatch_SVM[0][1], 100 * top_Kbatch_SVM[0][0]))"
      ],
      "execution_count": 47,
      "outputs": [
        {
          "output_type": "stream",
          "text": [
            "\n",
            "Accuracy of SVM on similarity matrix with 1200 dimensions is 97.33%\n",
            "\n",
            "Accuracy of SVM on original dataset with 10000 dimensions is 96.67%\n",
            "\n",
            "Accuracy of SVM on bottleneck code with 64 dimensions is 96.00%\n"
          ],
          "name": "stdout"
        }
      ]
    }
  ]
}