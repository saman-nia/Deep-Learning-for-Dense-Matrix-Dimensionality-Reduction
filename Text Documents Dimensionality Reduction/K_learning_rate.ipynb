{
  "nbformat": 4,
  "nbformat_minor": 0,
  "metadata": {
    "colab": {
      "name": "K_learning_rate.ipynb",
      "version": "0.3.2",
      "provenance": [],
      "collapsed_sections": [],
      "include_colab_link": true
    },
    "kernelspec": {
      "name": "python3",
      "display_name": "Python 3"
    },
    "accelerator": "GPU"
  },
  "cells": [
    {
      "cell_type": "markdown",
      "metadata": {
        "id": "view-in-github",
        "colab_type": "text"
      },
      "source": [
        "<a href=\"https://colab.research.google.com/github/saman-nia/Deep-Learning-for-Dimensionality-Reduction/blob/master/Text%20Documents%20Dimensionality%20Reduction/K_learning_rate.ipynb\" target=\"_parent\"><img src=\"https://colab.research.google.com/assets/colab-badge.svg\" alt=\"Open In Colab\"/></a>"
      ]
    },
    {
      "cell_type": "markdown",
      "metadata": {
        "id": "O4m-uf1h6c4T",
        "colab_type": "text"
      },
      "source": [
        "Author: Saman Paidar Nia"
      ]
    },
    {
      "cell_type": "code",
      "metadata": {
        "id": "zVM7zStNQjfD",
        "colab_type": "code",
        "colab": {
          "base_uri": "https://localhost:8080/",
          "height": 360
        },
        "outputId": "9fbc605c-c68d-468c-b3e6-4c7fc7017580"
      },
      "source": [
        "!pip install tensorflow-gpu==2.0.0-alpha0"
      ],
      "execution_count": 1,
      "outputs": [
        {
          "output_type": "stream",
          "text": [
            "Requirement already satisfied: tensorflow-gpu==2.0.0-alpha0 in /usr/local/lib/python3.6/dist-packages (2.0.0a0)\n",
            "Requirement already satisfied: protobuf>=3.6.1 in /usr/local/lib/python3.6/dist-packages (from tensorflow-gpu==2.0.0-alpha0) (3.7.1)\n",
            "Requirement already satisfied: keras-preprocessing>=1.0.5 in /usr/local/lib/python3.6/dist-packages (from tensorflow-gpu==2.0.0-alpha0) (1.0.9)\n",
            "Requirement already satisfied: keras-applications>=1.0.6 in /usr/local/lib/python3.6/dist-packages (from tensorflow-gpu==2.0.0-alpha0) (1.0.7)\n",
            "Requirement already satisfied: six>=1.10.0 in /usr/local/lib/python3.6/dist-packages (from tensorflow-gpu==2.0.0-alpha0) (1.12.0)\n",
            "Requirement already satisfied: astor>=0.6.0 in /usr/local/lib/python3.6/dist-packages (from tensorflow-gpu==2.0.0-alpha0) (0.8.0)\n",
            "Requirement already satisfied: tf-estimator-nightly<1.14.0.dev2019030116,>=1.14.0.dev2019030115 in /usr/local/lib/python3.6/dist-packages (from tensorflow-gpu==2.0.0-alpha0) (1.14.0.dev2019030115)\n",
            "Requirement already satisfied: gast>=0.2.0 in /usr/local/lib/python3.6/dist-packages (from tensorflow-gpu==2.0.0-alpha0) (0.2.2)\n",
            "Requirement already satisfied: google-pasta>=0.1.2 in /usr/local/lib/python3.6/dist-packages (from tensorflow-gpu==2.0.0-alpha0) (0.1.7)\n",
            "Requirement already satisfied: wheel>=0.26 in /usr/local/lib/python3.6/dist-packages (from tensorflow-gpu==2.0.0-alpha0) (0.33.4)\n",
            "Requirement already satisfied: termcolor>=1.1.0 in /usr/local/lib/python3.6/dist-packages (from tensorflow-gpu==2.0.0-alpha0) (1.1.0)\n",
            "Requirement already satisfied: tb-nightly<1.14.0a20190302,>=1.14.0a20190301 in /usr/local/lib/python3.6/dist-packages (from tensorflow-gpu==2.0.0-alpha0) (1.14.0a20190301)\n",
            "Requirement already satisfied: absl-py>=0.7.0 in /usr/local/lib/python3.6/dist-packages (from tensorflow-gpu==2.0.0-alpha0) (0.7.1)\n",
            "Requirement already satisfied: grpcio>=1.8.6 in /usr/local/lib/python3.6/dist-packages (from tensorflow-gpu==2.0.0-alpha0) (1.15.0)\n",
            "Requirement already satisfied: numpy<2.0,>=1.14.5 in /usr/local/lib/python3.6/dist-packages (from tensorflow-gpu==2.0.0-alpha0) (1.16.4)\n",
            "Requirement already satisfied: setuptools in /usr/local/lib/python3.6/dist-packages (from protobuf>=3.6.1->tensorflow-gpu==2.0.0-alpha0) (41.0.1)\n",
            "Requirement already satisfied: h5py in /usr/local/lib/python3.6/dist-packages (from keras-applications>=1.0.6->tensorflow-gpu==2.0.0-alpha0) (2.8.0)\n",
            "Requirement already satisfied: markdown>=2.6.8 in /usr/local/lib/python3.6/dist-packages (from tb-nightly<1.14.0a20190302,>=1.14.0a20190301->tensorflow-gpu==2.0.0-alpha0) (3.1.1)\n",
            "Requirement already satisfied: werkzeug>=0.11.15 in /usr/local/lib/python3.6/dist-packages (from tb-nightly<1.14.0a20190302,>=1.14.0a20190301->tensorflow-gpu==2.0.0-alpha0) (0.15.4)\n"
          ],
          "name": "stdout"
        }
      ]
    },
    {
      "cell_type": "code",
      "metadata": {
        "id": "sZL4-SUN6c4f",
        "colab_type": "code",
        "colab": {}
      },
      "source": [
        "# Import libraries.\n",
        "import tensorflow as tf\n",
        "from tensorflow.python.ops import control_flow_ops\n",
        "#-----------------------------------------------------------\n",
        "import numpy\n",
        "import warnings\n",
        "import math\n",
        "import scipy\n",
        "import pandas\n",
        "#-----------------------------------------------------------\n",
        "from scipy.spatial.distance import squareform, pdist\n",
        "from math import sqrt\n",
        "from IPython.display import clear_output\n",
        "#------------------------------------------------------------\n",
        "from sklearn.datasets import fetch_20newsgroups\n",
        "from sklearn.feature_extraction.text import TfidfVectorizer\n",
        "from sklearn import preprocessing\n",
        "from sklearn import cluster, svm, metrics\n",
        "from sklearn.metrics import normalized_mutual_info_score\n",
        "from sklearn.model_selection import train_test_split\n",
        "from sklearn.metrics import pairwise\n",
        "from sklearn.neighbors import NearestNeighbors\n",
        "#------------------------------------------------------------\n",
        "import matplotlib.pyplot as plt\n",
        "from tqdm import tqdm\n",
        "import difflib\n",
        "import operator\n",
        "import random\n",
        "#------------------------------------------------------------\n",
        "warnings.filterwarnings('ignore')"
      ],
      "execution_count": 0,
      "outputs": []
    },
    {
      "cell_type": "code",
      "metadata": {
        "id": "oa-32GiKR3Pn",
        "colab_type": "code",
        "outputId": "bdebb777-447c-4205-dfdc-57b9f1417d02",
        "colab": {
          "base_uri": "https://localhost:8080/",
          "height": 34
        }
      },
      "source": [
        "print('Version of Tensorflow: ', tf.__version__)"
      ],
      "execution_count": 3,
      "outputs": [
        {
          "output_type": "stream",
          "text": [
            "Version of Tensorflow:  2.0.0-alpha0\n"
          ],
          "name": "stdout"
        }
      ]
    },
    {
      "cell_type": "code",
      "metadata": {
        "id": "18F1b2Vk6c5D",
        "colab_type": "code",
        "colab": {}
      },
      "source": [
        "# Compute pairwise distances between observations in n-dimensional space.\n",
        "class Similarity_Graph:\n",
        "  def get_matrix(self, data, similar_method):\n",
        "    X = preprocessing.normalize(data, norm='l2', axis=0)\n",
        "    X = squareform(pdist(X, str(similar_method)))\n",
        "    return X"
      ],
      "execution_count": 0,
      "outputs": []
    },
    {
      "cell_type": "code",
      "metadata": {
        "id": "so-AxBwg6c5R",
        "colab_type": "code",
        "colab": {}
      },
      "source": [
        "class Similarity_Dataset_Iterator():\n",
        "  def __init__(self, data, labels, similarity, similarity_method):\n",
        "    self.data = data\n",
        "    self.labels = labels\n",
        "    self.similarity_method = similarity_method\n",
        "    self.matrix = Similarity_Graph.get_matrix(self, data=self.data,\n",
        "                                              similar_method=self.similarity_method)\n",
        "    self.data_size = self.matrix.shape[0]\n",
        "    self.current_index = 0\n",
        "  def next_batch(self, num):\n",
        "    data=self.matrix.transpose()\n",
        "    labels=self.labels\n",
        "    idx = numpy.arange(0, len(data))\n",
        "    numpy.random.shuffle(idx)\n",
        "    idx = idx[:num]\n",
        "    data_shuffle = [data[ i] for i in idx]\n",
        "    labels_shuffle = [labels[ i] for i in idx]\n",
        "    return data_shuffle, labels_shuffle\n",
        "  def whole_dataset(self):\n",
        "    return (self.matrix.transpose(), self.labels)"
      ],
      "execution_count": 0,
      "outputs": []
    },
    {
      "cell_type": "code",
      "metadata": {
        "id": "BzQucOvV6c5X",
        "colab_type": "code",
        "colab": {}
      },
      "source": [
        "#  Load the 20 newsgroups dataset and transform it into tf-idf vectors.\n",
        "def read_NewsGroup_data(similarity, similarity_method, categories_NG):\n",
        "  import logging\n",
        "  from optparse import OptionParser\n",
        "  import sys\n",
        "  # Display progress logs on stdout\n",
        "  logging.basicConfig(level=logging.INFO,\n",
        "                      format='%(asctime)s %(levelname)s %(message)s')\n",
        "  # parse commandline arguments\n",
        "  op = OptionParser()  \n",
        "  op.add_option(\"--no-idf\",\n",
        "                action=\"store_false\", dest=\"use_idf\", default=True,\n",
        "                help=\"Disable Inverse Document Frequency feature weighting.\")  \n",
        "  op.add_option(\"--n-features\", type=int, default=10000,\n",
        "                help=\"Maximum number of features (dimensions)\"\n",
        "                   \" to extract from text.\")\n",
        "  def is_interactive():\n",
        "      return not hasattr(sys.modules['__main__'], '__file__')\n",
        "  # work-around for Jupyter notebook and IPython console\n",
        "  argv = [] if is_interactive() else sys.argv[1:]\n",
        "  (opts, args) = op.parse_args(argv)\n",
        "  if len(args) > 0:\n",
        "      op.error(\"this script takes no arguments.\")\n",
        "      sys.exit(1)\n",
        "  if type(categories_NG) == list and not categories_NG:\n",
        "    categories_NG = ['comp.graphics','rec.sport.baseball','talk.politics.guns']      \n",
        "  elif type(categories_NG) != list:\n",
        "    categories_NG = None      \n",
        "  _n_samples = len(categories_NG) * 200  \n",
        "  vectorizer = TfidfVectorizer(max_df=0.5, max_features=opts.n_features,\n",
        "                               min_df=2, stop_words='english',\n",
        "                               use_idf=opts.use_idf)    \n",
        "  trian_set = fetch_20newsgroups(subset='all', categories=categories_NG,\n",
        "                                 shuffle=True, random_state=42)\n",
        "  data_trian_set = vectorizer.fit_transform(trian_set.data)\n",
        "  X = data_trian_set.toarray()\n",
        "  y = trian_set.target\n",
        "  X_train, X_test, y_train, y_test = train_test_split(X, y, test_size=0.2,\n",
        "                                                      random_state=42)    \n",
        "  X_train = X_train[:_n_samples]\n",
        "  y_train = y_train[:_n_samples]\n",
        "  X_test = X_test[:_n_samples]\n",
        "  y_test = y_test[:_n_samples]\n",
        "  Similarity_X = Similarity_Dataset_Iterator(X_train, y_train, similarity,\n",
        "                                             similarity_method)    \n",
        "  return (X_train, y_train, X_test, y_test, categories_NG, Similarity_X)"
      ],
      "execution_count": 0,
      "outputs": []
    },
    {
      "cell_type": "code",
      "metadata": {
        "id": "j2gOn1j3Y8o_",
        "colab_type": "code",
        "colab": {}
      },
      "source": [
        "list_20groups = ['alt.atheism','comp.graphics','comp.os.ms-windows.misc',\n",
        "                 'comp.sys.ibm.pc.hardware','comp.sys.mac.hardware',\n",
        "                 'comp.windows.x','misc.forsale','rec.autos','rec.motorcycles',\n",
        "                 'rec.sport.baseball','rec.sport.hockey','sci.crypt',\n",
        "                 'sci.electronics','sci.med','sci.space','soc.religion.christian',\n",
        "                 'talk.politics.guns','talk.politics.mideast',\n",
        "                 'talk.politics.misc','talk.religion.misc']"
      ],
      "execution_count": 0,
      "outputs": []
    },
    {
      "cell_type": "code",
      "metadata": {
        "id": "-i05iYEYaW8D",
        "colab_type": "code",
        "colab": {}
      },
      "source": [
        "def list_groups():\n",
        "  for jj in range(len(list_20groups)):\n",
        "    print('{:d} : {}'.format(jj+1, list_20groups[jj]))\n",
        "  print('\\n')"
      ],
      "execution_count": 0,
      "outputs": []
    },
    {
      "cell_type": "code",
      "metadata": {
        "id": "NSD_28dSEj0C",
        "colab_type": "code",
        "outputId": "2dda6c4a-04fe-4629-b84e-06ccb1d160b6",
        "colab": {
          "base_uri": "https://localhost:8080/",
          "height": 510
        }
      },
      "source": [
        "list_groups()\n",
        "categories_NG = []\n",
        "n_groups = 0\n",
        "count_run = False\n",
        "while True:\n",
        "  if count_run == False:\n",
        "    count_run = True\n",
        "    category = input('Please insert one by one number of your desired group from'\n",
        "                     'the list above:\\n'\n",
        "                     'e.g. type: 1, then press enter.\\n'                     \n",
        "                     '***The form again shows up and wating for the next'\n",
        "                     'insert***\\n'\n",
        "                     '***whenever you done, just press the enter without'\n",
        "                     'inserting value***\\n'                   \n",
        "                     '***Another valid values: <<6NG>> for 6 default groups,'\n",
        "                     'blank value for 3 default groups***\\n'\n",
        "                     'Enter here: ')\n",
        "  else:\n",
        "    category = input()\n",
        "  try:\n",
        "    category = int(category)\n",
        "    if 1 <= category <= 20:\n",
        "      n_groups += 1\n",
        "      category = category - 1\n",
        "      categories_NG.append(list_20groups[category])\n",
        "      print('Please insert next number of your desired group from the list above:\\n'\n",
        "            'Enter here: ')\n",
        "    else:\n",
        "      print('Please insert number between 1 to 20 ...')      \n",
        "  except ValueError:\n",
        "    if category == '' and n_groups == 0:\n",
        "      categories_NG = []\n",
        "      n_groups = 3\n",
        "      print('You selected 3 default groups.')\n",
        "      break\n",
        "    elif category == '' and n_groups > 0:\n",
        "      print('You selected {:d} groups.'.format(n_groups))\n",
        "      break\n",
        "    elif category == '6NG' or category == '6ng':\n",
        "      categories_NG = ['soc.religion.christian','talk.politics.guns',\n",
        "                       'comp.graphics','talk.politics.mideast','sci.crypt',\n",
        "                       'rec.sport.hockey']\n",
        "      n_groups = 6\n",
        "      print('You selected 6 newsgroups.')\n",
        "      break\n",
        "    else:\n",
        "      print('Please insert valid value!!!')"
      ],
      "execution_count": 9,
      "outputs": [
        {
          "output_type": "stream",
          "text": [
            "1 : alt.atheism\n",
            "2 : comp.graphics\n",
            "3 : comp.os.ms-windows.misc\n",
            "4 : comp.sys.ibm.pc.hardware\n",
            "5 : comp.sys.mac.hardware\n",
            "6 : comp.windows.x\n",
            "7 : misc.forsale\n",
            "8 : rec.autos\n",
            "9 : rec.motorcycles\n",
            "10 : rec.sport.baseball\n",
            "11 : rec.sport.hockey\n",
            "12 : sci.crypt\n",
            "13 : sci.electronics\n",
            "14 : sci.med\n",
            "15 : sci.space\n",
            "16 : soc.religion.christian\n",
            "17 : talk.politics.guns\n",
            "18 : talk.politics.mideast\n",
            "19 : talk.politics.misc\n",
            "20 : talk.religion.misc\n",
            "\n",
            "\n",
            "Please insert one by one number of your desired group fromthe list above:\n",
            "e.g. type: 1, then press enter.\n",
            "***The form again shows up and wating for the nextinsert***\n",
            "***whenever you done, just press the enter withoutinserting value***\n",
            "***Another valid values: <<6NG>> for 6 default groups,blank value for 3 default groups***\n",
            "Enter here: 6NG\n",
            "You selected 6 newsgroups.\n"
          ],
          "name": "stdout"
        }
      ]
    },
    {
      "cell_type": "code",
      "metadata": {
        "id": "mx4mqUHsrOyA",
        "colab_type": "code",
        "colab": {}
      },
      "source": [
        "similarity_methods = ['cosine','correlation','euclidean','sqeuclidean',\n",
        "                      'mahalanobis','chebyshev','canberra','braycurtis','cityblock']"
      ],
      "execution_count": 0,
      "outputs": []
    },
    {
      "cell_type": "code",
      "metadata": {
        "id": "0BwfLtq3rO5E",
        "colab_type": "code",
        "colab": {}
      },
      "source": [
        "def list_similarity_methods():\n",
        "  for jjj in range(len(similarity_methods)):\n",
        "    print('{:d} : {}'.format(jjj+1, similarity_methods[jjj]))\n",
        "  print('\\n')"
      ],
      "execution_count": 0,
      "outputs": []
    },
    {
      "cell_type": "code",
      "metadata": {
        "id": "oFtoY4jKrO3C",
        "colab_type": "code",
        "outputId": "3e8375d0-8f17-4eb0-981b-8d3728a8c2ca",
        "colab": {
          "base_uri": "https://localhost:8080/",
          "height": 289
        }
      },
      "source": [
        "list_similarity_methods()\n",
        "while True:\n",
        "  similarity_ = input('Please insert code of your desired similarity'\n",
        "                      'distance measurment from the list above:\\n'\n",
        "                      'e.g. type: 1, then press enter.\\n'                     \n",
        "                      '***Blank value for Correlation Distance.***\\n'\n",
        "                      'Enter here: ')\n",
        "  try:\n",
        "    similarity_ = int(similarity_)\n",
        "    if 1 <= similarity_ <= len(similarity_methods):\n",
        "      similarity_method = similarity_methods[similarity_-1]\n",
        "      print('You selected: ', similarity_method)\n",
        "      break\n",
        "    else:\n",
        "      print('Please insert number between 1 to 9 ...')      \n",
        "  except ValueError:\n",
        "    similarity_method = 'correlation'\n",
        "    print('You selected: ', similarity_method)\n",
        "    break"
      ],
      "execution_count": 12,
      "outputs": [
        {
          "output_type": "stream",
          "text": [
            "1 : cosine\n",
            "2 : correlation\n",
            "3 : euclidean\n",
            "4 : sqeuclidean\n",
            "5 : mahalanobis\n",
            "6 : chebyshev\n",
            "7 : canberra\n",
            "8 : braycurtis\n",
            "9 : cityblock\n",
            "\n",
            "\n",
            "Please insert code of your desired similaritydistance measurment from the list above:\n",
            "e.g. type: 1, then press enter.\n",
            "***Blank value for Correlation Distance.***\n",
            "Enter here: \n",
            "You selected:  correlation\n"
          ],
          "name": "stdout"
        }
      ]
    },
    {
      "cell_type": "code",
      "metadata": {
        "id": "gaO4obdpWNIW",
        "colab_type": "code",
        "colab": {}
      },
      "source": [
        "X_train, y_train, X_test, y_test, categories_lables, train_set = read_NewsGroup_data(\n",
        "    Similarity_Graph(),similarity_method, categories_NG)"
      ],
      "execution_count": 0,
      "outputs": []
    },
    {
      "cell_type": "code",
      "metadata": {
        "id": "8EsMoI0h6c5v",
        "colab_type": "code",
        "outputId": "a2ccd0d4-1de5-48c9-c0c6-e5d391a0ce81",
        "colab": {
          "base_uri": "https://localhost:8080/",
          "height": 34
        }
      },
      "source": [
        "n_input = train_set.data_size \n",
        "print('Number of Sample are: ', n_input)"
      ],
      "execution_count": 14,
      "outputs": [
        {
          "output_type": "stream",
          "text": [
            "Number of Sample are:  1200\n"
          ],
          "name": "stdout"
        }
      ]
    },
    {
      "cell_type": "code",
      "metadata": {
        "id": "Ru-MWpyh6c51",
        "colab_type": "code",
        "colab": {}
      },
      "source": [
        "def find_geometric_value():\n",
        "  geometric_value = 2\n",
        "  while n_input > geometric_value:\n",
        "    geometric_value = geometric_value * 2\n",
        "  geometric_value = geometric_value / 2\n",
        "  return int(geometric_value)"
      ],
      "execution_count": 0,
      "outputs": []
    },
    {
      "cell_type": "code",
      "metadata": {
        "id": "e2IUPkGQ6c5-",
        "colab_type": "code",
        "colab": {}
      },
      "source": [
        "def find_max_layers(embedded_node):    \n",
        "  if embedded_node is None:\n",
        "    embedded_node = int(2)\n",
        "  next_layer = find_geometric_value()\n",
        "  count_layers = 0\n",
        "  while next_layer >= embedded_node:\n",
        "    count_layers += 1\n",
        "    next_layer = next_layer / 2\n",
        "  max_layers = count_layers - 1\n",
        "  print ('The embedded goal of dimension is:------------------------- ', embedded_node)\n",
        "  print ('The maximum possibility of having of hiedden layers is:---- ', max_layers)\n",
        "  print ('Number of nodes in the first hidden layer is:-------------- ', find_geometric_value())\n",
        "  return str(embedded_node), max_layers, find_geometric_value()"
      ],
      "execution_count": 0,
      "outputs": []
    },
    {
      "cell_type": "code",
      "metadata": {
        "id": "tiOyh7zF6c6S",
        "colab_type": "code",
        "outputId": "37222d44-adf1-4721-98a7-795240a2f5ca",
        "colab": {
          "base_uri": "https://localhost:8080/",
          "height": 136
        }
      },
      "source": [
        "while True:\n",
        "  value = input('Please Enter your Final Dimension and press Enter:\\n'\n",
        "                'Valid range, please: From 2 onwards\\n'\n",
        "                'Any invalid input, will be considered as 2\\n')\n",
        "  try:\n",
        "    value = int(value)\n",
        "    break\n",
        "  except ValueError:\n",
        "    value = 2\n",
        "    break\n",
        "n_code, n_max_layers, first_layer = find_max_layers(embedded_node = value)"
      ],
      "execution_count": 17,
      "outputs": [
        {
          "output_type": "stream",
          "text": [
            "Please Enter your Final Dimension and press Enter:\n",
            "Valid range, please: From 2 onwards\n",
            "Any invalid input, will be considered as 2\n",
            "100\n",
            "The embedded goal of dimension is:-------------------------  100\n",
            "The maximum possibility of having of hiedden layers is:----  3\n",
            "Number of nodes in the first hidden layer is:--------------  1024\n"
          ],
          "name": "stdout"
        }
      ]
    },
    {
      "cell_type": "code",
      "metadata": {
        "id": "WZvuiqNL6c61",
        "colab_type": "code",
        "colab": {}
      },
      "source": [
        "n_hidden_layer = [first_layer]\n",
        "geometric_progress = first_layer\n",
        "for i in range(1, n_max_layers):\n",
        "  geometric_progress = int(geometric_progress / 2)\n",
        "  n_hidden_layer.append(geometric_progress)"
      ],
      "execution_count": 0,
      "outputs": []
    },
    {
      "cell_type": "code",
      "metadata": {
        "id": "IC-dkWfFlMbj",
        "colab_type": "code",
        "colab": {}
      },
      "source": [
        "def get_hidden_layer(num_hidden = n_max_layers):\n",
        "  if num_hidden is None:\n",
        "    num_hidden = int(n_max_layers)\n",
        "  num_nodes = n_input+sum(n_hidden_layer[:num_hidden])+int(n_code)\n",
        "  print(\"Graph Encoder looks like this:\")\n",
        "  print(\"Input:--------------------->:\",n_input)\n",
        "  print(\"Hidden Layers are:--------->:\",n_hidden_layer[:num_hidden])\n",
        "  print(\"Embedded Goal-------------->:\",n_code)\n",
        "  print(\"Number of Hidden Layers:--->:\",num_hidden)\n",
        "  print(\"Number of Layers:---------->:\",len(n_hidden_layer[:num_hidden])+2)\n",
        "  print(\"Number of Nodes:----------->:\",num_nodes)\n",
        "  print(\"Number of Groups:---------->:\",n_groups)\n",
        "  return n_hidden_layer[:num_hidden], num_nodes"
      ],
      "execution_count": 0,
      "outputs": []
    },
    {
      "cell_type": "code",
      "metadata": {
        "id": "u8j1y2yqlMik",
        "colab_type": "code",
        "outputId": "fa0f0af2-fbfd-4092-e9d0-eea974aad96f",
        "colab": {
          "base_uri": "https://localhost:8080/",
          "height": 221
        }
      },
      "source": [
        "run_ghl = False\n",
        "while True:  \n",
        "  if run_ghl == False:\n",
        "    value_hl = input('Please Enter the number of hidden layers and press Enter:\\n'\n",
        "                      'Valid range, please: From 1 to {:d} \\n'\n",
        "                       'Any invalid input, will be considered as {:d} \\n'.format(\n",
        "                           n_max_layers, round(sqrt(n_max_layers))))\n",
        "    run_ghl = True\n",
        "  else:\n",
        "    value_hl = input()\n",
        "  try:\n",
        "    if (1 <= int(value_hl) <= n_max_layers):\n",
        "      value_hl = int(value_hl)\n",
        "      break\n",
        "    else:\n",
        "      print('Please insert valid value or press enter without value:')\n",
        "  except ValueError:\n",
        "    value_hl = round(sqrt(n_max_layers))\n",
        "    break\n",
        "num_hidden_layers, num_nodes = get_hidden_layer(num_hidden = value_hl)"
      ],
      "execution_count": 21,
      "outputs": [
        {
          "output_type": "stream",
          "text": [
            "Please Enter the number of hidden layers and press Enter:\n",
            "Valid range, please: From 1 to 3 \n",
            "Any invalid input, will be considered as 2 \n",
            "\n",
            "Graph Encoder looks like this:\n",
            "Input:--------------------->: 1200\n",
            "Hidden Layers are:--------->: [1024, 512]\n",
            "Embedded Goal-------------->: 100\n",
            "Number of Hidden Layers:--->: 2\n",
            "Number of Layers:---------->: 4\n",
            "Number of Nodes:----------->: 2836\n",
            "Number of Groups:---------->: 6\n"
          ],
          "name": "stdout"
        }
      ]
    },
    {
      "cell_type": "code",
      "metadata": {
        "id": "rbOgBkrNlMoT",
        "colab_type": "code",
        "colab": {}
      },
      "source": [
        "scope_layer = []\n",
        "for i in range(1, len(num_hidden_layers)+1):\n",
        "  new_word = \"hidden-layer-\"\n",
        "  character = str(i)\n",
        "  new_word += character\n",
        "  scope_layer.append(new_word)"
      ],
      "execution_count": 0,
      "outputs": []
    },
    {
      "cell_type": "code",
      "metadata": {
        "id": "vHw7ZhkvlMYp",
        "colab_type": "code",
        "colab": {}
      },
      "source": [
        "def encoder(x, n_code, mode_train):\n",
        "    with tf.compat.v1.variable_scope(\"encoder\"):\n",
        "      hidden = [None] * len(num_hidden_layers)\n",
        "      for ii in range(len(num_hidden_layers)):\n",
        "        if scope_layer[ii] == 'hidden-layer-1':\n",
        "          with tf.compat.v1.variable_scope(scope_layer[ii]):\n",
        "            hidden[ii] = layer_sigmoid(x, [n_input, num_hidden_layers[ii]],\n",
        "                                       [num_hidden_layers[ii]], mode_train)\n",
        "        else:\n",
        "          with tf.compat.v1.variable_scope(scope_layer[ii]):\n",
        "            hidden[ii] = layer_sigmoid(hidden[ii-1], [num_hidden_layers[ii-1],\n",
        "                                                      num_hidden_layers[ii]],\n",
        "                                       [num_hidden_layers[ii]], mode_train)  \n",
        "      with tf.compat.v1.variable_scope(\"embedded\"):\n",
        "        code = layer_sigmoid(hidden[-1], [num_hidden_layers[-1], n_code],\n",
        "                             [n_code], mode_train)\n",
        "    return code"
      ],
      "execution_count": 0,
      "outputs": []
    },
    {
      "cell_type": "code",
      "metadata": {
        "id": "ze63g3GOlMUM",
        "colab_type": "code",
        "colab": {}
      },
      "source": [
        "def decoder(code, n_code, mode_train):\n",
        "    with tf.compat.v1.variable_scope(\"decoder\"):\n",
        "      hidden = [None] * len(num_hidden_layers)\n",
        "      for ii in range(len(num_hidden_layers)):\n",
        "        if scope_layer[ii] == 'hidden-layer-1':\n",
        "          with tf.compat.v1.variable_scope(scope_layer[ii]):\n",
        "            hidden[ii] = layer_sigmoid(code, [n_code, num_hidden_layers[-1]],\n",
        "                                       [num_hidden_layers[-1]], mode_train)\n",
        "        else:\n",
        "          with tf.compat.v1.variable_scope(scope_layer[ii]):\n",
        "            hidden[ii] = layer_sigmoid(hidden[ii-1],\n",
        "                                       [num_hidden_layers[-(ii)], \n",
        "                                        num_hidden_layers[-(ii+1)]],\n",
        "                                       [num_hidden_layers[-(ii+1)]], mode_train)        \n",
        "      with tf.compat.v1.variable_scope(\"reconstructed\"):\n",
        "        output = layer_sigmoid(hidden[-1], [num_hidden_layers[0], n_input],\n",
        "                               [n_input], mode_train)\n",
        "    return output"
      ],
      "execution_count": 0,
      "outputs": []
    },
    {
      "cell_type": "code",
      "metadata": {
        "id": "bEDRMWgZR50_",
        "colab_type": "code",
        "colab": {}
      },
      "source": [
        "def batch_norm(x, n_out, mode_train):\n",
        "    beta_initialize = tf.compat.v1.constant_initializer(value=0.1, dtype=tf.float32)\n",
        "    gamma_initialize = tf.compat.v1.constant_initializer(value=0.9, dtype=tf.float32)\n",
        "    beta = tf.compat.v1.get_variable(\"beta\", [n_out], initializer=beta_initialize)\n",
        "    gamma = tf.compat.v1.get_variable(\"gamma\", [n_out], initializer=gamma_initialize)\n",
        "    batch_mean, batch_var = tf.nn.moments(x=x, axes=[0], name='moments')\n",
        "    ema = tf.train.ExponentialMovingAverage(decay=0.5)\n",
        "    ema_apply_op = ema.apply([batch_mean, batch_var])\n",
        "    ema_mean, ema_var = ema.average(batch_mean), ema.average(batch_var)\n",
        "    def mean_var():\n",
        "        with tf.control_dependencies([ema_apply_op]):\n",
        "            return tf.identity(batch_mean), tf.identity(batch_var)\n",
        "    mean, var = control_flow_ops.cond(mode_train, mean_var, lambda: (ema_mean, ema_var))\n",
        "    reshaped_x = tf.reshape(x, [-1, 1, 1, n_out])\n",
        "    normed = tf.nn.batch_norm_with_global_normalization(reshaped_x, mean, var, beta, gamma,\n",
        "                                                        1e-08, True)\n",
        "    return tf.reshape(normed, [-1, n_out])"
      ],
      "execution_count": 0,
      "outputs": []
    },
    {
      "cell_type": "code",
      "metadata": {
        "id": "uoGLJmgGk9CM",
        "colab_type": "code",
        "colab": {}
      },
      "source": [
        "def layer_sigmoid(input, weight_shape, bias_shape, mode_train):\n",
        "    weight_initialize = tf.compat.v1.random_normal_initializer(stddev = (1.0 / weight_shape[0] ** 0.5))\n",
        "    bias_initialize = tf.compat.v1.random_normal_initializer(stddev = (1.0 / bias_shape[0] ** 0.5))\n",
        "    w = tf.compat.v1.get_variable(\"w\", weight_shape, initializer = weight_initialize)\n",
        "    b = tf.compat.v1.get_variable(\"b\", bias_shape, initializer = bias_initialize)\n",
        "    return tf.nn.sigmoid(batch_norm((tf.matmul(input, w) + b), weight_shape[1], mode_train))"
      ],
      "execution_count": 0,
      "outputs": []
    },
    {
      "cell_type": "code",
      "metadata": {
        "id": "DJIKwGTp6c7J",
        "colab_type": "code",
        "colab": {}
      },
      "source": [
        "def layer_tanh(input, weight_shape, bias_shape, mode_train):\n",
        "    weight_initialize = tf.compat.v1.random_normal_initializer(stddev = (1.0 / weight_shape[0] ** 0.5))\n",
        "    bias_initialize = tf.compat.v1.random_normal_initializer(stddev = (1.0 / bias_shape[0] ** 0.5))\n",
        "    w = tf.compat.v1.get_variable(\"w\", weight_shape, initializer = weight_initialize)\n",
        "    b = tf.compat.v1.get_variable(\"b\", bias_shape, initializer = bias_initialize)\n",
        "    return tf.nn.tanh(batch_norm((tf.matmul(input, w) + b), weight_shape[1], mode_train))"
      ],
      "execution_count": 0,
      "outputs": []
    },
    {
      "cell_type": "code",
      "metadata": {
        "id": "YuXzeogo6c7T",
        "colab_type": "code",
        "colab": {}
      },
      "source": [
        "def loss_function(reconstructed, x):\n",
        "    with tf.compat.v1.variable_scope(\"train\"):\n",
        "      t = tf.math.subtract(x, reconstructed)\n",
        "      t = tf.math.square(t)\n",
        "      t = tf.math.reduce_sum(input_tensor=t)\n",
        "      t = tf.math.reduce_mean(input_tensor=t)\n",
        "      return t"
      ],
      "execution_count": 0,
      "outputs": []
    },
    {
      "cell_type": "code",
      "metadata": {
        "id": "fAWDozNT6c7Z",
        "colab_type": "code",
        "colab": {}
      },
      "source": [
        "def training(cost, learning_rate, beta1, beta2, global_step):\n",
        "    optimizer = tf.compat.v1.train.AdamOptimizer(learning_rate, beta1, beta2,\n",
        "                                                 epsilon=1e-08, use_locking=False, name='Adam')\n",
        "    compute_gradient = optimizer.compute_gradients(cost)\n",
        "    apply_gradient = optimizer.apply_gradients(compute_gradient, global_step=global_step)\n",
        "    return apply_gradient"
      ],
      "execution_count": 0,
      "outputs": []
    },
    {
      "cell_type": "code",
      "metadata": {
        "id": "jMw5xEosDgQQ",
        "colab_type": "code",
        "colab": {}
      },
      "source": [
        "def k_means(X, n_clusters):\n",
        "    kmeans = cluster.KMeans(n_clusters=n_clusters)\n",
        "    return kmeans.fit(X).labels_"
      ],
      "execution_count": 0,
      "outputs": []
    },
    {
      "cell_type": "code",
      "metadata": {
        "id": "kCV6Oe7JWC58",
        "colab_type": "code",
        "colab": {}
      },
      "source": [
        "def knn_samples(X, n_kneighbors):\n",
        "  nbrs = NearestNeighbors(n_neighbors = n_kneighbors).fit(X)\n",
        "  distances, indices = nbrs.kneighbors(X)\n",
        "  return indices"
      ],
      "execution_count": 0,
      "outputs": []
    },
    {
      "cell_type": "code",
      "metadata": {
        "id": "jhg-zuZQPOl2",
        "colab_type": "code",
        "colab": {}
      },
      "source": [
        "n_kneighbors = 3\n",
        "index_input = knn_samples(X_train, n_kneighbors)"
      ],
      "execution_count": 0,
      "outputs": []
    },
    {
      "cell_type": "code",
      "metadata": {
        "id": "G3TCnxbK6c7m",
        "colab_type": "code",
        "colab": {}
      },
      "source": [
        "data_set, labels_set = train_set.whole_dataset() #---- Allocation of data and labels"
      ],
      "execution_count": 0,
      "outputs": []
    },
    {
      "cell_type": "code",
      "metadata": {
        "id": "a7U8C3RdoZFv",
        "colab_type": "code",
        "colab": {}
      },
      "source": [
        "# Parameters\n",
        "n_layers = (value_hl + 2) #------------------------ Number of Layers.\n",
        "beta1 = 0.9 #-------------------------------------- Decay rate 1.  \n",
        "beta2 = 0.99 #------------------------------------- Decay rate 2\n",
        "learning_rate = [0.001, 0.002, 0.003, 0.004, 0.005,\n",
        "                 0.006,0.007,0.008,0.009, 0.01,] #- Learning rate.\n",
        "n_batch = 8  #------------------------------------- Number of selection data in per step.\n",
        "epochs = 40 # ------------------------------------- Number of Epochs.\n",
        "n_interior = n_input // n_batch"
      ],
      "execution_count": 0,
      "outputs": []
    },
    {
      "cell_type": "code",
      "metadata": {
        "id": "sURC1I6FAJeQ",
        "colab_type": "code",
        "outputId": "d00dd59f-bea5-44e4-b01d-630c05f286ff",
        "colab": {
          "base_uri": "https://localhost:8080/",
          "height": 119
        }
      },
      "source": [
        "print('Number of original dataset dimension are: ------->',X_train.shape[1])\n",
        "print('Number of samples are: -------------------------->',n_input)\n",
        "print('Number of embedded goal-------------------------->',n_code)\n",
        "print('Number of epochs are: --------------------------->',epochs)\n",
        "print('Number of batch sizes are: ---------------------->',n_batch)\n",
        "print('Number of Backpropagation in each epoch is: ----->',n_interior)\n"
      ],
      "execution_count": 35,
      "outputs": [
        {
          "output_type": "stream",
          "text": [
            "Number of original dataset dimension are: -------> 10000\n",
            "Number of samples are: --------------------------> 1200\n",
            "Number of embedded goal--------------------------> 100\n",
            "Number of epochs are: ---------------------------> 40\n",
            "Number of batch sizes are: ----------------------> 8\n",
            "Number of Backpropagation in each epoch is: -----> 150\n"
          ],
          "name": "stdout"
        }
      ]
    },
    {
      "cell_type": "code",
      "metadata": {
        "id": "W1aZrQDP6c7s",
        "colab_type": "code",
        "colab": {}
      },
      "source": [
        "loss_cost=[] #------- A list to keep all training evaluations.\n",
        "steps=[] #----------- A list to keep all steps.\n",
        "NMI_step = [] #------ A list to keep all NMI progresses.\n",
        "l_mean = []\n",
        "list_pvals = []\n",
        "list_rhos = []\n",
        "score_svm = []"
      ],
      "execution_count": 0,
      "outputs": []
    },
    {
      "cell_type": "code",
      "metadata": {
        "id": "1BHFX7s96c74",
        "colab_type": "code",
        "outputId": "ae0e1d62-d404-46a6-bfa4-4ff0e4c0f80b",
        "colab": {
          "base_uri": "https://localhost:8080/",
          "height": 34
        }
      },
      "source": [
        "for i_L in tqdm(learning_rate):\n",
        "  with tf.Graph().as_default():    \n",
        "    with tf.compat.v1.variable_scope(\"autoencoder_architecture\"):\n",
        "        x = tf.compat.v1.placeholder(\"float\", [None, n_input])   \n",
        "        mode_train = tf.compat.v1.placeholder(tf.bool)\n",
        "        code = encoder(x, int(n_code), mode_train)\n",
        "        reconstructed = decoder(code, int(n_code), mode_train)\n",
        "        cost = loss_function(reconstructed, x)\n",
        "        global_step = tf.Variable(0, name='global_step', trainable=False)\n",
        "        train_optimizer = training(cost, i_L, beta1, beta2,global_step)\n",
        "        sess = tf.compat.v1.Session()\n",
        "        init_op = tf.compat.v1.global_variables_initializer()\n",
        "        sess.run(init_op)\n",
        "        # Training cycle\n",
        "        for epoch in range(epochs):\n",
        "          for interior in range(n_interior):\n",
        "          # Fit training with Backpropagation using batch data.\n",
        "            miniData, _ = train_set.next_batch(n_batch)\n",
        "            _, new_cost = sess.run([train_optimizer, cost],\n",
        "                                   feed_dict={x: miniData, mode_train:True})    \n",
        "            #------------------------- Save the optimized data -----------------\n",
        "  steps.append(i_L)\n",
        "  loss_cost.append(new_cost)\n",
        "  ae_codes = sess.run(code, feed_dict={x: data_set, mode_train: False})\n",
        "  pred_KMeans_code = k_means(ae_codes, n_groups)\n",
        "  nmi_KMeans_code = normalized_mutual_info_score(labels_set, pred_KMeans_code)\n",
        "  NMI_step.append(round(nmi_KMeans_code, 2))\n",
        "  index_code = knn_samples(ae_codes, n_kneighbors)\n",
        "  list_rho = []\n",
        "  list_pval = []\n",
        "  list_r = []  \n",
        "  for qq in range(len(index_input)):    \n",
        "    sm = difflib.SequenceMatcher(None, index_input[qq], index_code[qq])\n",
        "    list_r.append(sm.quick_ratio())\n",
        "    rho, pval = scipy.stats.spearmanr(index_input[qq], index_code[qq])\n",
        "    list_rho.append(rho)\n",
        "    list_pval.append(pval)  \n",
        "  list_rhos.append(round(numpy.mean(list_rho), 2))\n",
        "  list_pvals.append(round(numpy.mean(list_pval), 2))\n",
        "  l_mean.append(round(numpy.mean(list_r), 2))\n",
        "  # Comparison of linear SVM classifier on different dimensions projection.  \n",
        "  _X_train, _X_test, _y_train, _y_test = train_test_split(\n",
        "      ae_codes, labels_set, test_size=0.25, random_state=42)\n",
        "  clf = svm.SVC(kernel='linear', C=1.0).fit(_X_train, _y_train)\n",
        "  accuracy_svm = metrics.accuracy_score(_y_test, clf.predict(_X_test))\n",
        "  score_svm.append(round(accuracy_svm, 2))"
      ],
      "execution_count": 37,
      "outputs": [
        {
          "output_type": "stream",
          "text": [
            "100%|██████████| 10/10 [11:38<00:00, 74.36s/it]\n"
          ],
          "name": "stderr"
        }
      ]
    },
    {
      "cell_type": "code",
      "metadata": {
        "id": "iW1Nc0O7Y8m3",
        "colab_type": "code",
        "outputId": "25bcf7e7-278d-4e1d-b7bb-60aca27f3332",
        "colab": {
          "base_uri": "https://localhost:8080/",
          "height": 431
        }
      },
      "source": [
        "xi = [i for i in range(0, len(steps))]\n",
        "plt.figure(figsize=(14,4))\n",
        "plt.subplots_adjust(wspace=0.3, hspace=0.3)\n",
        "plt.subplot(1,2,1)\n",
        "plt.plot(xi, NMI_step, linestyle='--', label = 'NMI KMeans')\n",
        "plt.plot(xi, score_svm, linestyle='-', label = 'Score SVM')\n",
        "plt.xlabel('Learning Rate'),plt.ylabel('Score Accuracy')\n",
        "plt.title('Accuracy of SVM and KMeans for {:d}NG'.format(len(categories_lables)))\n",
        "plt.xticks(xi, steps)\n",
        "plt.grid()\n",
        "plt.legend()\n",
        "plt.subplot(1,2,2)\n",
        "plt.plot(xi, list_rhos, linestyle='-', label = 'Correlation ')\n",
        "plt.plot(xi, list_pvals, linestyle='--', label = 'PValue')\n",
        "plt.plot(xi, l_mean, linestyle='-.', label = 'KNN Score')\n",
        "plt.xlabel('Learning Rate'),plt.ylabel('Rank Correlation Score')\n",
        "plt.title('Rank Correlation for {:d}NG'.format(len(categories_lables)))\n",
        "plt.xticks(xi, steps)\n",
        "plt.grid()\n",
        "plt.legend()\n",
        "plt.show()\n",
        "\n",
        "print('\\n\\n')\n",
        "print('Number of original dataset dimension are: ------->',X_train.shape[1])\n",
        "print('Number of samples are: -------------------------->',n_input)\n",
        "print('Number of embedded goal-------------------------->',n_code)\n",
        "print('Number of epochs are: --------------------------->',epochs)\n",
        "print('Number of batch sizes are: ---------------------->',n_batch)"
      ],
      "execution_count": 38,
      "outputs": [
        {
          "output_type": "display_data",
          "data": {
            "image/png": "[encoded data removed]",
            "text/plain": [
              "<Figure size 1008x288 with 2 Axes>"
            ]
          },
          "metadata": {
            "tags": []
          }
        },
        {
          "output_type": "stream",
          "text": [
            "\n",
            "\n",
            "\n",
            "Number of original dataset dimension are: -------> 10000\n",
            "Number of samples are: --------------------------> 1200\n",
            "Number of embedded goal--------------------------> 100\n",
            "Number of epochs are: ---------------------------> 40\n",
            "Number of batch sizes are: ----------------------> 8\n"
          ],
          "name": "stdout"
        }
      ]
    },
    {
      "cell_type": "code",
      "metadata": {
        "id": "ncZwd7LCekIv",
        "colab_type": "code",
        "colab": {}
      },
      "source": [
        "top_Kbatch_NN = sorted(zip(map(lambda x: round(x, 2), l_mean), steps), reverse=True)[:7]\n",
        "top_Kbatch_Corr = sorted(zip(map(lambda x: round(x, 2), list_rhos), steps), reverse=True)[:7]\n",
        "top_Kbatch_NMI = sorted(zip(map(lambda x: round(x, 2), NMI_step), steps), reverse=True)[:7]\n",
        "top_Kbatch_SVM = sorted(zip(map(lambda x: round(x, 2), score_svm), steps), reverse=True)[:7]"
      ],
      "execution_count": 0,
      "outputs": []
    },
    {
      "cell_type": "code",
      "metadata": {
        "id": "JRb0GXGgfDiS",
        "colab_type": "code",
        "outputId": "36924494-5718-4699-d3f4-4f351b5c4078",
        "colab": {
          "base_uri": "https://localhost:8080/",
          "height": 622
        }
      },
      "source": [
        "plt.figure(figsize=(12,10))\n",
        "plt.subplots_adjust(wspace=0.3, hspace=0.3)\n",
        "plt.subplot(2,2,1)\n",
        "plt.bar(numpy.arange(len(list(zip(*top_Kbatch_NMI))[1])),\n",
        "        list(zip(*top_Kbatch_NMI))[0], color='k', width=0.6)\n",
        "plt.xticks(numpy.arange(len(list(zip(*top_Kbatch_NMI))[1])),\n",
        "           list(zip(*top_Kbatch_NMI))[1]) \n",
        "plt.title('Top {:d} Rank NMI for {:d}NG'.format(len(top_Kbatch_NN),\n",
        "                                                len(categories_lables)))\n",
        "plt.xlabel('Learning Rate')\n",
        "plt.ylabel('Score Learning Rate')\n",
        "plt.subplot(2,2,2)\n",
        "plt.bar(numpy.arange(len(list(zip(*top_Kbatch_SVM))[1])),\n",
        "        list(zip(*top_Kbatch_SVM))[0], color='b', width=0.6)\n",
        "plt.xticks(numpy.arange(len(list(zip(*top_Kbatch_SVM))[1])),\n",
        "           list(zip(*top_Kbatch_SVM))[1])\n",
        "plt.title('Top {:d} Rank SVM for {:d}NG'.format(len(top_Kbatch_NN),\n",
        "                                                len(categories_lables)))\n",
        "plt.xlabel('Learning Rate')\n",
        "plt.ylabel('Score Learning Rate')\n",
        "plt.subplot(2,2,3)\n",
        "plt.bar(numpy.arange(len(list(zip(*top_Kbatch_Corr))[1])),\n",
        "        list(zip(*top_Kbatch_Corr))[0], color='g', width=0.6)\n",
        "plt.xticks(numpy.arange(len(list(zip(*top_Kbatch_Corr))[1])),\n",
        "           list(zip(*top_Kbatch_Corr))[1]) \n",
        "plt.title('Top {:d} Rank Correlation for {:d}NG'.format(len(top_Kbatch_NN),\n",
        "                                                        len(categories_lables)))\n",
        "plt.xlabel('Learning Rate')\n",
        "plt.ylabel('Score Learning Rate')\n",
        "plt.subplot(2,2,4)\n",
        "plt.bar(numpy.arange(len(list(zip(*top_Kbatch_NN))[1])),\n",
        "        list(zip(*top_Kbatch_NN))[0], color='r', width=0.6)\n",
        "plt.xticks(numpy.arange(len(list(zip(*top_Kbatch_NN))[1])),\n",
        "           list(zip(*top_Kbatch_NN))[1])\n",
        "plt.title('Top {:d} Rank Nearest Neighbors for {:d}NG'.format(len(top_Kbatch_NN),\n",
        "                                                              len(categories_lables)))\n",
        "plt.xlabel('Learning Rate')\n",
        "plt.ylabel('Score Learning Rate')\n",
        "plt.show()"
      ],
      "execution_count": 44,
      "outputs": [
        {
          "output_type": "display_data",
          "data": {
            "image/png": "[encoded data removed]",
            "text/plain": [
              "<Figure size 864x720 with 4 Axes>"
            ]
          },
          "metadata": {
            "tags": []
          }
        }
      ]
    }
  ]
}